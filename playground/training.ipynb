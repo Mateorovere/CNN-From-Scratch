{
 "cells": [
  {
   "cell_type": "markdown",
   "metadata": {},
   "source": [
    "# This notebook will be building, preparing, training, and downloading a CNN (Convolutional Neural Network) from scratch, it is using only numpy"
   ]
  },
  {
   "cell_type": "markdown",
   "metadata": {},
   "source": [
    "### Importing the dependencies"
   ]
  },
  {
   "cell_type": "code",
   "execution_count": null,
   "metadata": {},
   "outputs": [],
   "source": [
    "import numpy as np\n",
    "from keras.datasets import mnist\n",
    "import pickle\n",
    "import sys\n",
    "import os\n",
    "sys.path.append(os.path.abspath('..'))\n",
    "from layers import Activation, Sigmoid, Tanh, ReLU, Softmax, Convolutional, Dense, Layer, Reshape, categorical_cross_entropy_prime, categorical_cross_entropy"
   ]
  },
  {
   "cell_type": "markdown",
   "metadata": {},
   "source": [
    "### Defining the training functions"
   ]
  },
  {
   "cell_type": "code",
   "execution_count": null,
   "metadata": {},
   "outputs": [],
   "source": [
    "def train(network, loss, loss_prime, x_train, y_train, epochs, learning_rate):\n",
    "    for epoch in range(epochs):\n",
    "        error = 0\n",
    "        for x, y in zip(x_train, y_train):\n",
    "            # Forward pass\n",
    "            output = x\n",
    "            for layer in network:\n",
    "                output = layer.forward(output)\n",
    "            # Compute loss\n",
    "            error += loss(y, output)\n",
    "            # Backward pass\n",
    "            grad = loss_prime(y, output)\n",
    "            for layer in reversed(network):\n",
    "                grad = layer.backward(grad, learning_rate)\n",
    "        error /= len(x_train)\n",
    "        print(f'Epoch {epoch+1}/{epochs}, Error={error}')\n",
    "\n",
    "def predict(network, x):\n",
    "    output = x\n",
    "    for layer in network:\n",
    "        output = layer.forward(output)\n",
    "    return output"
   ]
  },
  {
   "cell_type": "markdown",
   "metadata": {},
   "source": [
    "### Data Preprocessing"
   ]
  },
  {
   "cell_type": "code",
   "execution_count": null,
   "metadata": {},
   "outputs": [],
   "source": [
    "from keras.utils import to_categorical\n",
    "\n",
    "(x_train, y_train), (x_test, y_test) = mnist.load_data()\n",
    "# Preprocess data\n",
    "\n",
    "x_train = x_train.astype('float32') / 255.0\n",
    "x_test = x_test.astype('float32') / 255.0\n",
    "\n",
    "# Reshape input data\n",
    "\n",
    "x_train = x_train.reshape(-1, 1, 28, 28)\n",
    "x_test = x_test.reshape(-1, 1, 28, 28)\n",
    "\n",
    "# One-hot encode labels\n",
    "\n",
    "y_train = to_categorical(y_train)\n",
    "y_test = to_categorical(y_test)\n",
    "\n",
    "# Reshape labels to match output shape\n",
    "\n",
    "y_train = y_train.reshape(-1, 10, 1)\n",
    "y_test = y_test.reshape(-1, 10, 1)\n",
    "\n",
    "# Limit the training data for faster training\n",
    "\n",
    "train_limit = 1000  # Adjust as needed\n",
    "test_limit = 200    # Adjust as needed\n",
    "\n",
    "x_train = x_train[:train_limit]\n",
    "y_train = y_train[:train_limit]\n",
    "\n",
    "x_test = x_test[:test_limit]\n",
    "y_test = y_test[:test_limit]"
   ]
  },
  {
   "cell_type": "markdown",
   "metadata": {},
   "source": [
    "### Building the CNN"
   ]
  },
  {
   "cell_type": "code",
   "execution_count": null,
   "metadata": {},
   "outputs": [],
   "source": [
    "network = [\n",
    "    Convolutional((1, 28, 28), kernel_size=3, depth=8),\n",
    "    ReLU(),\n",
    "    Reshape((8, 26, 26), (8 * 26 * 26, 1)),\n",
    "    Dense(8 * 26 * 26, 128),\n",
    "    ReLU(),\n",
    "    Dense(128, 10),\n",
    "    Softmax()\n",
    "]"
   ]
  },
  {
   "cell_type": "markdown",
   "metadata": {},
   "source": [
    "### Training"
   ]
  },
  {
   "cell_type": "code",
   "execution_count": null,
   "metadata": {},
   "outputs": [],
   "source": [
    "epochs = 170  \n",
    "learning_rate = 0.006 \n",
    "\n",
    "train(network, categorical_cross_entropy, categorical_cross_entropy_prime, x_train, y_train, epochs, learning_rate)"
   ]
  },
  {
   "cell_type": "markdown",
   "metadata": {},
   "source": [
    "### Testing"
   ]
  },
  {
   "cell_type": "code",
   "execution_count": null,
   "metadata": {},
   "outputs": [],
   "source": [
    "correct = 0\n",
    "total = len(x_test)\n",
    "\n",
    "for x, y in zip(x_test, y_test):\n",
    "    output = predict(network, x)\n",
    "    if np.argmax(output) == np.argmax(y):\n",
    "        correct += 1\n",
    "\n",
    "accuracy = correct / total\n",
    "print(f'Test Accuracy: {accuracy * 100}%')"
   ]
  },
  {
   "cell_type": "markdown",
   "metadata": {},
   "source": [
    "### Saving the model"
   ]
  },
  {
   "cell_type": "code",
   "execution_count": null,
   "metadata": {},
   "outputs": [],
   "source": [
    "def save_model(network, filename):\n",
    "    params = []\n",
    "    for layer in network:\n",
    "        layer_params = {}\n",
    "        if hasattr(layer, 'weights'):\n",
    "            layer_params['weights'] = layer.weights\n",
    "        if hasattr(layer, 'biases'):\n",
    "            layer_params['biases'] = layer.biases\n",
    "        params.append(layer_params)\n",
    "    with open(filename, 'wb') as f:\n",
    "        pickle.dump(params, f)\n",
    "\n",
    "save_model(network, 'cnn_mnist_model3.pkl')"
   ]
  }
 ],
 "metadata": {
  "kernelspec": {
   "display_name": "venv",
   "language": "python",
   "name": "python3"
  },
  "language_info": {
   "codemirror_mode": {
    "name": "ipython",
    "version": 3
   },
   "file_extension": ".py",
   "mimetype": "text/x-python",
   "name": "python",
   "nbconvert_exporter": "python",
   "pygments_lexer": "ipython3",
   "version": "3.12.5"
  }
 },
 "nbformat": 4,
 "nbformat_minor": 2
}
